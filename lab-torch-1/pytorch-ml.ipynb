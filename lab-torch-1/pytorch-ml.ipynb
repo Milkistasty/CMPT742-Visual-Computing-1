{
 "cells": [
  {
   "cell_type": "markdown",
   "metadata": {},
   "source": [
    "# CMPT 732 - Fall 2022\n",
    "# PyTorch ML Introduction\n",
    "\n",
    "__content creator:__ Mehdi Safaee"
   ]
  },
  {
   "cell_type": "markdown",
   "metadata": {},
   "source": [
    "In this tutorial, we will use PyTorch to solve a simple regression problem."
   ]
  },
  {
   "cell_type": "markdown",
   "metadata": {},
   "source": [
    "The problem is as follow:"
   ]
  },
  {
   "cell_type": "markdown",
   "metadata": {},
   "source": [
    "We have a dataset consisting of 36 samples of information about houses (area, num of bedrooms, num of baths, modern/old architecture style) and their price. We want to develop a model to predict the price based on the house information."
   ]
  },
  {
   "cell_type": "code",
   "execution_count": null,
   "metadata": {},
   "outputs": [],
   "source": [
    "import numpy as np\n",
    "import torch\n",
    "import pandas as pd # For handling tabular data\n",
    "import matplotlib.pyplot as plt # For data visualization\n",
    "from sklearn.preprocessing import MinMaxScaler # For scaling data\n",
    "from sklearn.model_selection import train_test_split # For splitting the test/train subsets of the dataset"
   ]
  },
  {
   "cell_type": "markdown",
   "metadata": {},
   "source": [
    "### Step 1: Importing data\n",
    "In this step, we will use Pandas library to read the dataset.xlsx excel file and convert it to numpy format."
   ]
  },
  {
   "cell_type": "code",
   "execution_count": null,
   "metadata": {},
   "outputs": [],
   "source": [
    "dataset = pd.read_excel('dataset.xlsx')\n",
    "dataset.head()"
   ]
  },
  {
   "cell_type": "code",
   "execution_count": null,
   "metadata": {},
   "outputs": [],
   "source": [
    "x = dataset.iloc[:,1:].values\n",
    "y = dataset.iloc[:,0].values.reshape(-1,1)\n",
    "print(x.shape)\n",
    "print(y.shape)"
   ]
  },
  {
   "cell_type": "markdown",
   "metadata": {},
   "source": [
    "### Step 2: Normalizing data\n",
    "In our dataset, some features have small values and others have large values. For better performance of the model, we need all values to lie in a specific range. We need to use the `MinMaxScaler` from the Scikit-Learn library for this purpose."
   ]
  },
  {
   "cell_type": "code",
   "execution_count": null,
   "metadata": {},
   "outputs": [],
   "source": [
    "scalar = MinMaxScaler()\n",
    "\n",
    "\n",
    "x_scaled = scalar.fit_transform(x)\n",
    "y_scaled = scalar.fit_transform(y)\n",
    "\n",
    "x_scaled = torch.Tensor(x_scaled)\n",
    "y_scaled = torch.Tensor(y_scaled)"
   ]
  },
  {
   "cell_type": "code",
   "execution_count": null,
   "metadata": {},
   "outputs": [],
   "source": [
    "print(x_scaled[0:5, :])"
   ]
  },
  {
   "cell_type": "markdown",
   "metadata": {},
   "source": [
    "### Step 3: Splitting data to test and train\n",
    "We should separate a portion of the data for test time, and perform the training process only on the training portion of the data. To separate data, we will be using `train_test_split` function from the Scikit-learn library."
   ]
  },
  {
   "cell_type": "code",
   "execution_count": null,
   "metadata": {},
   "outputs": [],
   "source": [
    "x_train, x_test, y_train, y_test = train_test_split(x_scaled, y_scaled, test_size=0.25, random_state=0)\n",
    "print(x_train.shape)\n",
    "print(y_train.shape)\n",
    "print(x_test.shape)\n",
    "print(y_test.shape)"
   ]
  },
  {
   "cell_type": "markdown",
   "metadata": {},
   "source": [
    "### Step 4: PyTorch model\n",
    "We will now develop a very simple model using PyTorch. Based on our data samples, we need 4 inputs and 1 output. The regression model that we want to develop will compute $price = \\alpha_0*(area) + \\alpha_1*(bedrooms) + \\alpha_2*(baths) + \\alpha_3*(modern/old) $ regression problem. The model architecture is depicted in figure_2.png"
   ]
  },
  {
   "cell_type": "code",
   "execution_count": null,
   "metadata": {},
   "outputs": [],
   "source": [
    "input_size = 4\n",
    "output_size = 1\n",
    "model = torch.nn.Sequential(\n",
    "      torch.nn.Linear(input_size, output_size),\n",
    ")"
   ]
  },
  {
   "cell_type": "markdown",
   "metadata": {},
   "source": [
    "### Step 5: Optimizer and Loss function\n",
    "Now we need to define a loss function and an optimizer. We need to use MSE loss function since we are dealing with a regression problem. We also will be using ADAM optimizer since it's a good default choice (we will talk about various optimizers and configurations in future lab sessions during PyTorch 3rd tutorial). In order to converge toward a solution, the optimizer will tune the model parameters (weights); thus it needs to get model parameters and a learning_rate as an input. "
   ]
  },
  {
   "cell_type": "code",
   "execution_count": null,
   "metadata": {},
   "outputs": [],
   "source": [
    "loss_function = torch.nn.MSELoss()\n",
    "optimizer = torch.optim.Adam(model.parameters(), lr = 1e-3)"
   ]
  },
  {
   "cell_type": "markdown",
   "metadata": {},
   "source": [
    "### Step 6: Training loop\n",
    "Now we start the training loop. We first need to put the model on `train mode`. We then will train the model for 1000 epochs. By calling loss_function, the loss in the current epoch will be calculated. By calling `loss.backward()`, the gradients will be calculated. Finally, by calling `optimizer.step()`, the model parameters will be updated using the gradients."
   ]
  },
  {
   "cell_type": "code",
   "execution_count": null,
   "metadata": {},
   "outputs": [],
   "source": [
    "model.train()\n",
    "epoch = 1000\n",
    "for epoch in range(epoch):\n",
    "    optimizer.zero_grad()\n",
    "    # Forward pass\n",
    "    y_pred = model(x_train)\n",
    "    # Compute Loss\n",
    "    loss = loss_function(y_pred.squeeze(), y_train.squeeze())\n",
    "    if epoch%100 == 0:\n",
    "        print('Epoch {}: train loss: {}'.format(epoch, loss.item()))\n",
    "    # Backward pass\n",
    "    loss.backward()\n",
    "    optimizer.step()"
   ]
  },
  {
   "cell_type": "markdown",
   "metadata": {},
   "source": [
    "### Step 7: Testing the model\n",
    "Now, we will apply the model on the test data. We then need to rescale the output to it's original scale for better interpretablity and visualization."
   ]
  },
  {
   "cell_type": "code",
   "execution_count": null,
   "metadata": {},
   "outputs": [],
   "source": [
    "# test the model\n",
    "\n",
    "model.eval()\n",
    "y_pred = model(x_test)\n",
    "\n",
    "y_pred = y_pred.detach().cpu().numpy()\n",
    "y_test = y_test.detach().cpu().numpy()\n",
    "\n",
    "y_pred = scalar.inverse_transform(y_pred)\n",
    "y_test = scalar.inverse_transform(y_test)\n",
    "\n",
    "print(y_test)"
   ]
  },
  {
   "cell_type": "markdown",
   "metadata": {},
   "source": [
    "### Step 8: Visualizing the model output\n",
    "Finally, we can use a visualization library like Matplotlib to visualize the output data. In this case, a simple bar-plot may provide a good visualization so we can know how our model performed."
   ]
  },
  {
   "cell_type": "code",
   "execution_count": null,
   "metadata": {},
   "outputs": [],
   "source": [
    "# plot the results\n",
    "y_test = y_test.squeeze()\n",
    "y_pred = y_pred.squeeze()\n",
    "\n",
    "plt.bar(np.arange(9), y_test, color = 'blue', label = 'real', width = 0.4)\n",
    "plt.bar(np.arange(9), y_pred, color = 'red', label = 'predicted', width = 0.2)\n",
    "plt.xlabel(\"Sample number\")\n",
    "plt.ylabel(\"House price\")\n",
    "plt.legend()\n",
    "plt.show()"
   ]
  }
 ],
 "metadata": {
  "kernelspec": {
   "display_name": "Python 3 (ipykernel)",
   "language": "python",
   "name": "python3"
  },
  "language_info": {
   "codemirror_mode": {
    "name": "ipython",
    "version": 3
   },
   "file_extension": ".py",
   "mimetype": "text/x-python",
   "name": "python",
   "nbconvert_exporter": "python",
   "pygments_lexer": "ipython3",
   "version": "3.9.2"
  },
  "vscode": {
   "interpreter": {
    "hash": "866708d7f1266784c9bbe9c1bf96780feffa11a5236967664b309a105dfa0461"
   }
  }
 },
 "nbformat": 4,
 "nbformat_minor": 4
}
