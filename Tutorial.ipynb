{
 "cells": [
  {
   "cell_type": "markdown",
   "metadata": {},
   "source": [
    "# Lab 1"
   ]
  },
  {
   "cell_type": "code",
   "execution_count": 13,
   "metadata": {},
   "outputs": [
    {
     "name": "stdout",
     "output_type": "stream",
     "text": [
      "the volume of a sphere is: 33.49 \n",
      " the surface area of a sphere is: 50.24\n"
     ]
    }
   ],
   "source": [
    "# Todo 1: Define a function to calculate the volume of a sphere\n",
    "def calc_volume(r):\n",
    "    \"\"\"Returns the volume of a sphere with radius r.\"\"\"\n",
    "    pi = 3.14\n",
    "    volume = round(4/3 * pi * (r ** 3), 2)\n",
    "    return volume\n",
    "\n",
    "# Todo 2: Define a function to calculate the surface area of a sphere\n",
    "def calc_surface_area(r):\n",
    "    \"\"\"Returns the surface area of a sphere with radius r.\"\"\"\n",
    "    pi = 3.14\n",
    "    surface_area = round(4 * pi * (r ** 2), 2)\n",
    "    return surface_area\n",
    "\n",
    "radius = 2\n",
    "\n",
    "# Todo 3: Call the functions and print the results\n",
    "print(\"the volume of a sphere is:\", calc_volume(radius), \"\\n the surface area of a sphere is:\", calc_surface_area(radius))"
   ]
  },
  {
   "cell_type": "markdown",
   "metadata": {},
   "source": [
    "# Lab 2"
   ]
  },
  {
   "cell_type": "code",
   "execution_count": null,
   "metadata": {},
   "outputs": [],
   "source": [
    "import numpy as np\n",
    "\n",
    "A = np.array([(1,1,0,0,0,0),\n",
    "              (0,1,1,0,0,0),\n",
    "              (0,0,1,1,0,0),\n",
    "              (0,0,0,1,1,0),\n",
    "              (0,0,0,0,1,1),\n",
    "              (-1,0,0,0,0,1)])\n",
    "A"
   ]
  },
  {
   "cell_type": "code",
   "execution_count": null,
   "metadata": {},
   "outputs": [],
   "source": [
    "B = [3,\n",
    "     5,\n",
    "     7,\n",
    "     9,\n",
    "     11,\n",
    "     5]\n",
    "\n",
    "x = np.linalg.inv(A) @ B\n",
    "x"
   ]
  },
  {
   "cell_type": "code",
   "execution_count": null,
   "metadata": {},
   "outputs": [],
   "source": [
    "A = np.array([(1,1),\n",
    "              (1,1),\n",
    "              (1,0)])\n",
    "B = np.array([1,\n",
    "              2,\n",
    "              1])\n",
    "\n",
    "X = np.linalg.inv(A) @ B\n",
    "X"
   ]
  },
  {
   "cell_type": "code",
   "execution_count": 32,
   "metadata": {},
   "outputs": [
    {
     "name": "stdout",
     "output_type": "stream",
     "text": [
      "[[5.33333333 5.66666667 6.         6.33333333]\n",
      " [6.33333333 6.66666667 7.         7.33333333]\n",
      " [7.33333333 7.66666667 8.         8.33333333]]\n",
      "6.833333333333333\n",
      "0.8975274678557508\n",
      "[[5.7 6.1 6.5 6.9]\n",
      " [6.9 7.3 7.7 8.1]\n",
      " [8.1 8.5 8.9 9.3]]\n"
     ]
    }
   ],
   "source": [
    "# p1\n",
    "\n",
    "import numpy as np\n",
    "\n",
    "A = np.array([[1, 2, 3, 4],\n",
    "              [4, 5, 6, 7],\n",
    "              [7, 8, 9, 10]])\n",
    "\n",
    "B = np.array([[10, 9, 8, 7],\n",
    "              [7, 6, 5, 4],\n",
    "              [4, 3, 2, 1]])\n",
    "\n",
    "C = np.array([[5, 6, 7, 8],\n",
    "              [8, 9, 10, 11],\n",
    "              [11, 12, 13, 14]])\n",
    "\n",
    "\n",
    "\n",
    "# Todo 1: Calculate element-wise average of A, B, C\n",
    "# D = x = np.zeros((3,4))\n",
    "# for i in range(len(A)):\n",
    "#     for j in range(len(A[0])):\n",
    "#         D[i][j] = (A[i][j]+B[i][j]+C[i][j])/3\n",
    "\n",
    "D = (A +  B + C) / 3\n",
    "\n",
    "print(\"Matrix D:\", D)\n",
    "\n",
    "\n",
    "# Todo 2: Calculate the following summary statistics for the matrix D:\n",
    "global_mean = np.mean(D)\n",
    "print(global_mean)\n",
    "global_std = np.std(D)\n",
    "print(global_std)\n",
    "row_sum = np.sum(D, axis=1)\n",
    "col_sum = np.sum(D, axis=0)\n",
    "max_value = np.max(D)\n",
    "min_value = np.min(D)\n",
    "max_index = np.unravel_index(np.argmax(D), D.shape)  #argmax will flatten the matrix and return the max element's position, we also need to provide the shape\n",
    "min_index = np.unravel_index(np.argmin(D), D.shape)\n",
    "\n",
    "# Todo 3: Consider a new matrix E obtained by horizontally stacking matrices A, B, and C\n",
    "E = np.hstack((A, B, C))  # they should have the same row number\n",
    "median_E = np.median(E)\n",
    "variance_vertical_E = np.var(E, axis=0)\n",
    "\n",
    "# Todo 4: Given a weight vector w, compute the matrix F = w[0] * A + w[1] * B + w[2] * C\n",
    "w = [0.2, 0.3, 0.5]\n",
    "F = w[0] * A + w[1] * B + w[2] * C\n",
    "print(F)\n"
   ]
  },
  {
   "cell_type": "code",
   "execution_count": 48,
   "metadata": {},
   "outputs": [
    {
     "name": "stdout",
     "output_type": "stream",
     "text": [
      "14.25\n",
      "24\n"
     ]
    },
    {
     "data": {
      "image/png": "[encoded data removed]",
      "text/plain": [
       "<Figure size 720x360 with 1 Axes>"
      ]
     },
     "metadata": {
      "needs_background": "light"
     },
     "output_type": "display_data"
    }
   ],
   "source": [
    "# p2\n",
    "import numpy as np\n",
    "import matplotlib.pyplot as plt\n",
    "\n",
    "# Data\n",
    "months = [\"Jan\", \"Feb\", \"Mar\", \"Apr\", \"May\", \"Jun\", \"Jul\", \"Aug\", \"Sep\", \"Oct\", \"Nov\", \"Dec\"]\n",
    "temperatures = [5, 6, 9, 14, 18, 21, 24, 23, 20, 15, 10, 6]\n",
    "\n",
    "# Todo 1: Calculate average temperature using numpy\n",
    "avg_temp = np.mean(temperatures)\n",
    "print(avg_temp)\n",
    "max_temp = np.max(temperatures)\n",
    "print(max_temp)\n",
    "\n",
    "# Todo 2: Plotting the data\n",
    "plt.figure(figsize=(10,5))\n",
    "plt.plot(months, temperatures, marker='o', linestyle = '-', color='blue')\n",
    "\n",
    "# Todo 3: Highlighting the month with the highest temperature\n",
    "max_temp_month_index = np.argmax(temperatures)\n",
    "max_temp = temperatures[max_temp_month_index]\n",
    "plt.scatter(months[max_temp_month_index], max_temp, color='red', zorder=5)\n",
    "# plt.axhline(y=max_temp, color='r', linestyle = '-')\n",
    "\n",
    "# Todo 4: Drawing a horizontal line for the average temperature\n",
    "plt.axhline(y=avg_temp, color='g', linestyle = '--', linewidth=0.7, label=f'Avg Temp: {avg_temp:.2f}C')\n",
    "\n",
    "# Todo 5: Providing labels and title\n",
    "plt.title(\"Monthly average temperatures in Celsius over a year\")\n",
    "plt.xlabel(\"Months\")\n",
    "plt.ylabel(\"Temperature (C)\")\n",
    "\n",
    "# Todo 6: Displaying the grid and legend\n",
    "plt.grid(True, which='both', linestyle='--', linewidth=0.5)\n",
    "plt.legend()\n",
    "\n",
    "# Todo 7: Displaying the plot\n",
    "\n",
    "# Todo 8: Save the plot as a png file\n",
    "plt.savefig('p2.png', dpi=300)\n",
    "\n",
    "plt.show()\n"
   ]
  },
  {
   "cell_type": "code",
   "execution_count": 86,
   "metadata": {},
   "outputs": [
    {
     "name": "stdout",
     "output_type": "stream",
     "text": [
      "the result of linear regression line:\n",
      "slope is 0.6797480896035714 \n",
      "intercept is: 1.850411689006822\n",
      "\n",
      "the coefficients of polynomial model are: [ 0.00412348 -0.09510142  0.6878662  -1.58611427  1.28033654  1.31754171]\n"
     ]
    },
    {
     "data": {
      "image/png": "[encoded data removed]",
      "text/plain": [
       "<Figure size 432x288 with 1 Axes>"
      ]
     },
     "metadata": {
      "needs_background": "light"
     },
     "output_type": "display_data"
    },
    {
     "name": "stdout",
     "output_type": "stream",
     "text": [
      "[1.64134971 1.57163204 1.84511306 2.75470125 5.21668772 8.55227094\n",
      " 9.29129997 9.26827379 6.56519918 4.49347234]\n"
     ]
    }
   ],
   "source": [
    "#p3 \n",
    "import numpy as np\n",
    "import matplotlib.pyplot as plt\n",
    "\n",
    "x = np.array([0.5, 1.2, 2.3, 3.0, 4.1, 5.5, 6.0, 7.2, 8.5, 9.8])\n",
    "y = np.array([1.5, 2.0, 1.2, 3.0, 5.5, 8.5, 9.0, 9.5, 6.5, 4.5])\n",
    "\n",
    "# Todo 1: Plot the data\n",
    "plt.scatter(x, y)\n",
    "\n",
    "# Todo 2: Fit a linear model to the data\n",
    "# linear regression\n",
    "# theta = np.linalg.inv(X.T @ (X)) @ (X.T) @ (y)\n",
    "# c, m = theta\n",
    "m, c = np.polyfit(x, y, 1)\n",
    "\n",
    "plt.plot(x, y, 'yo',color='green')\n",
    "plt.plot(x, m*x+c, '--k', color='blue')\n",
    "print(\"the result of linear regression line:\\nslope is\",m, \"\\nintercept is:\",c)\n",
    "\n",
    "# Todo 3: Fit a polynomial model to the data \n",
    "coefficients = np.polyfit(x, y, 5)\n",
    "print(\"\\nthe coefficients of polynomial model are:\", coefficients)\n",
    "polynomial = np.poly1d(coefficients)\n",
    "plt.plot(x, polynomial(x), color='red')\n",
    "plt.show()\n",
    "\n",
    "# compute MSE for LG\n",
    "# linear_pred = m*x + c\n",
    "# mse_linear = np.mean((y - linear_pred)**2)\n",
    "\n",
    "# compute MSE for poly\n",
    "\n"
   ]
  },
  {
   "cell_type": "code",
   "execution_count": 1,
   "metadata": {},
   "outputs": [
    {
     "data": {
      "text/plain": [
       "True"
      ]
     },
     "execution_count": 1,
     "metadata": {},
     "output_type": "execute_result"
    }
   ],
   "source": [
    "# q5\n",
    "import cv2\n",
    "# Todo 1: Load the table image\n",
    "img = cv2.imread(\"p2.png\")\n",
    "# cv2.imshow('Original', img)\n",
    "# cv2.waitKey(0)\n",
    "# cv2.destroyAllWindows()\n",
    "\n",
    "# Todo 2: Convert the image to grayscale\n",
    "img = cv2.cvtColor(img, cv2.COLOR_BGR2GRAY)\n",
    "cv2.imwrite('p2_after.png', img)\n",
    "# or can do this\n",
    "# img = img[:, :, 0]\n",
    "# img = np.mean(img, axis=2)\n",
    "\n",
    "# Todo 3: High-pass filter the image using a 3x3 Laplacian kernel\n",
    "\n",
    "\n",
    "# Todo 4: Low-pass filter the image using a 25x25 Gaussian kernel"
   ]
  },
  {
   "cell_type": "code",
   "execution_count": 84,
   "metadata": {},
   "outputs": [
    {
     "name": "stdout",
     "output_type": "stream",
     "text": [
      "[[[255 255 255   0]\n",
      "  [255 255 255   0]\n",
      "  [255 255 255   0]\n",
      "  ...\n",
      "  [255 255 255   0]\n",
      "  [255 255 255   0]\n",
      "  [255 255 255   0]]\n",
      "\n",
      " [[255 255 255   0]\n",
      "  [255 255 255   0]\n",
      "  [255 255 255   0]\n",
      "  ...\n",
      "  [255 255 255   0]\n",
      "  [255 255 255   0]\n",
      "  [255 255 255   0]]\n",
      "\n",
      " [[255 255 255   0]\n",
      "  [255 255 255   0]\n",
      "  [255 255 255   0]\n",
      "  ...\n",
      "  [255 255 255   0]\n",
      "  [255 255 255   0]\n",
      "  [255 255 255   0]]\n",
      "\n",
      " ...\n",
      "\n",
      " [[255 255 255   0]\n",
      "  [255 255 255   0]\n",
      "  [255 255 255   0]\n",
      "  ...\n",
      "  [255 255 255   0]\n",
      "  [255 255 255   0]\n",
      "  [255 255 255   0]]\n",
      "\n",
      " [[255 255 255   0]\n",
      "  [255 255 255   0]\n",
      "  [255 255 255   0]\n",
      "  ...\n",
      "  [255 255 255   0]\n",
      "  [255 255 255   0]\n",
      "  [255 255 255   0]]\n",
      "\n",
      " [[255 255 255   0]\n",
      "  [255 255 255   0]\n",
      "  [255 255 255   0]\n",
      "  ...\n",
      "  [255 255 255   0]\n",
      "  [255 255 255   0]\n",
      "  [255 255 255   0]]]\n"
     ]
    },
    {
     "data": {
      "text/plain": [
       "0"
      ]
     },
     "execution_count": 84,
     "metadata": {},
     "output_type": "execute_result"
    }
   ],
   "source": [
    "cat = cv2.imread('cat.png', cv2.IMREAD_UNCHANGED)\n",
    "table = cv2.imread('table.png')\n",
    "# the same as mix = cat + table\n",
    "\n",
    "print(cat)\n",
    "# x = x[:, :, np.newaxis] # create a new empty dimention\n",
    "\n",
    "alpha = cat[:,:,3].astype(float) / 255.0  # extracting the transparency dimention from 4d, left with 1 and 0, the pixels have cat is 1, 0 otherwise\n",
    "# but alpha itself is only a height*weight vectors, lost the 3th dimention(to change channel i.e. RGB)\n",
    "inv_alpha = 1.0 - alpha  # the inverse of the cat position(the 0's), the pixels positions elsewhere rather than the cat position(1's)\n",
    "\n",
    "# use the pixels not in cat positions, and the pixels in cat positions\n",
    "mix = inv_alpha[:,:,np.newaxis] * table + alpha[:,:,np.newaxis] * cat[:,:,:3]\n",
    "\n",
    "# dst = cv2.addWeighted(img1,0.7,img2,0.5,0)\n",
    "cv2.imwrite('blended_cat.png', cat[:,:,3])\n"
   ]
  },
  {
   "cell_type": "markdown",
   "metadata": {},
   "source": [
    "# Lab 3"
   ]
  },
  {
   "cell_type": "markdown",
   "metadata": {},
   "source": []
  }
 ],
 "metadata": {
  "kernelspec": {
   "display_name": "Python 3",
   "language": "python",
   "name": "python3"
  },
  "language_info": {
   "codemirror_mode": {
    "name": "ipython",
    "version": 3
   },
   "file_extension": ".py",
   "mimetype": "text/x-python",
   "name": "python",
   "nbconvert_exporter": "python",
   "pygments_lexer": "ipython3",
   "version": "3.8.10"
  },
  "orig_nbformat": 4
 },
 "nbformat": 4,
 "nbformat_minor": 2
}
