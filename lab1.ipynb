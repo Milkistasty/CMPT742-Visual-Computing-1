{
 "cells": [
  {
   "attachments": {},
   "cell_type": "markdown",
   "metadata": {},
   "source": [
    "# CMPT 742 Practices for Visual Computing 1"
   ]
  },
  {
   "cell_type": "code",
   "execution_count": 6,
   "metadata": {},
   "outputs": [],
   "source": [
    "\"\"\"Q1\"\"\"\n",
    "\n",
    "# Todo 1: Define a function to calculate the volume of a sphere\n",
    "def calc_volume(r):\n",
    "    \"\"\"Returns the volume of a sphere with radius r.\"\"\"\n",
    "    assert r > 0, \"radius should be greater than 0\"\n",
    "    volume = 0\n",
    "    volume = 4 / 3 * 3.14 * (r ** 3) \n",
    "    return volume\n",
    "\n",
    "# Todo 2: Define a function to calculate the surface area of a sphere\n",
    "def calc_surface_area(r):\n",
    "    \"\"\"Returns the surface area of a sphere with radius r.\"\"\"\n",
    "    surface_area = 0\n",
    "    surface_area = 4 * 3.14 * (r ** 2)\n",
    "    return surface_area\n",
    "\n",
    "radius = 2\n",
    "\n",
    "# Todo 3: Call the functions and print the results"
   ]
  },
  {
   "cell_type": "code",
   "execution_count": 7,
   "metadata": {},
   "outputs": [
    {
     "name": "stdout",
     "output_type": "stream",
     "text": [
      "33.49333333333333\n",
      "50.24\n"
     ]
    }
   ],
   "source": [
    "print(calc_volume(radius))\n",
    "print(calc_surface_area(radius))"
   ]
  },
  {
   "cell_type": "code",
   "execution_count": 9,
   "metadata": {},
   "outputs": [
    {
     "name": "stdout",
     "output_type": "stream",
     "text": [
      "Pi is approximately 0.0012247448713968868 after 1000000 iterations\n"
     ]
    }
   ],
   "source": [
    "\"\"\"Q2\"\"\"\n",
    "\n",
    "iterations = 1000000\n",
    "\n",
    "# approximate the value of pi\n",
    "pi = 0\n",
    "def vol_of_sphere(iter):\n",
    "    sum = 0\n",
    "    for i in range(1, iter+1):\n",
    "        sum += 1 / (iter**2)\n",
    "    return ((sum * 6) ** 0.5) / 2\n",
    "\n",
    "pi = vol_of_sphere(iterations)\n",
    "\n",
    "print(\"Pi is approximately\", pi, \"after\", iterations, \"iterations\")"
   ]
  },
  {
   "cell_type": "code",
   "execution_count": 18,
   "metadata": {},
   "outputs": [
    {
     "name": "stdout",
     "output_type": "stream",
     "text": [
      "weighted_sum_1: 24.341600000000003\n",
      "weighted_sum_1: 24.341600000000003\n"
     ]
    }
   ],
   "source": [
    "\"\"\"Q3\"\"\"\n",
    "\n",
    "import random\n",
    "\n",
    "# Todo 1: Set a seed\n",
    "random.seed = 10    \n",
    "\n",
    "# Todo 2: weighted_sum using for loop\n",
    "def weighted_sum_1(weights, values):\n",
    "    \"\"\"Calculate weighted sum using for loop\"\"\"\n",
    "    # check the lengths are the same\n",
    "    assert len(weights) == len(values), \"the length of weights does not equal to the length of values\"\n",
    "    sum = 0\n",
    "    for i in range(len(weights)):\n",
    "        sum += weights[i] * values[i]\n",
    "    return sum\n",
    "\n",
    "# Todo 3: weighted_sum using list comprehension\n",
    "def weighted_sum_2(weights, values):\n",
    "    \"\"\"Calculate weighted sum using list comprehension\"\"\"\n",
    "    assert len(weights) == len(values), \"the length of weights does not equal to the length of values\"\n",
    "    return sum([weights[i] * values[i] for i in range(len(weights))])\n",
    "\n",
    "# Define main function\n",
    "def main():\n",
    "    # Todo 4: Generate random weights and values\n",
    "    weights = [round(random.uniform(1, 0), 2) for _ in range(100)]\n",
    "    values = [round(random.uniform(1, 0), 2) for _ in range(100)]\n",
    "    \n",
    "    print(\"weighted_sum_1:\", weighted_sum_1(weights, values))\n",
    "    print(\"weighted_sum_1:\", weighted_sum_2(weights, values))\n",
    "\n",
    "if __name__ == \"__main__\":\n",
    "    main()"
   ]
  },
  {
   "cell_type": "code",
   "execution_count": 3,
   "metadata": {},
   "outputs": [
    {
     "name": "stdout",
     "output_type": "stream",
     "text": [
      "{'std1': {'a1': 95, 'a2': 90, 'a3': 85, 'a4': 90, 'avg': 90.0}, 'std2': {'a1': 90, 'a2': 85, 'a3': 80, 'a4': 85, 'avg': 85.0}, 'std3': {'a1': 85, 'a2': 80, 'a3': 100, 'a4': 80, 'avg': 86.25}, 'std4': {'a1': 90, 'a2': 75, 'a3': 70, 'a4': 95, 'avg': 82.5}}\n",
      "90.0\n"
     ]
    }
   ],
   "source": [
    "\"\"\"Q4\"\"\"\n",
    "\n",
    "students_grades = {\n",
    "    \"std1\": {\"a1\": 95, \"a2\": 90, \"a3\": 85, \"a4\": 90},\n",
    "    \"std2\": {\"a1\": 90, \"a2\": 85, \"a3\": 80, \"a4\": 85},\n",
    "    \"std3\": {\"a1\": 85, \"a2\": 80, \"a3\": 100, \"a4\": 80},\n",
    "    \"std4\": {\"a1\": 90, \"a2\": 75, \"a3\": 70, \"a4\": 95}\n",
    "}\n",
    "\n",
    "# Todo 1: Define a function to add average to each student's grades\n",
    "def add_avg(grades):\n",
    "    \"\"\"Add average to each student's' grades\"\"\"\n",
    "    assert grades, \"grades is empty\"\n",
    "    for std in grades:\n",
    "        grades[std][\"avg\"] = sum(grades[std].values()) / len(std)\n",
    "    return grades\n",
    "\n",
    "print(add_avg(students_grades))\n",
    "\n",
    "# Todo 2: Define a function to calculate the average of a student's grades for std1\n",
    "def avg_std1(grades):\n",
    "    assert grades, \"grades is empty\"\n",
    "    assert grades['std1'], \"std1 is not in the dictionary\"\n",
    "    return sum(grades['std1'].values()) / len(grades['std1'])\n",
    "\n",
    "print((avg_std1(students_grades)))"
   ]
  },
  {
   "cell_type": "code",
   "execution_count": 16,
   "metadata": {},
   "outputs": [],
   "source": [
    "\"\"\"Q5\"\"\"\n",
    "import csv \n",
    "\n",
    "# Todo 1: Write student grades in CSV format\n",
    "with open(\"grades.csv\", \"w\") as f:\n",
    "    fieldnames = list(students_grades[\"std1\"].keys())\n",
    "    writer = csv.DictWriter(f, fieldnames=fieldnames)\n",
    "    writer.writeheader()\n",
    "\n",
    "    for row_id, row_data in students_grades.items():\n",
    "        row_data[\"std_number\"] = row_id\n",
    "        writer.writerow(row_data)\n",
    "\n",
    "# Todo 2: Write student grades in JSON format\n",
    "import json\n",
    "json_file_path = \"grades.json\"\n",
    "# Write the data to the JSON file\n",
    "with open(json_file_path, \"w\") as json_file:\n",
    "    json.dump(students_grades, json_file, indent=4)"
   ]
  },
  {
   "cell_type": "code",
   "execution_count": 29,
   "metadata": {},
   "outputs": [],
   "source": [
    "\"\"\"Q6\"\"\"\n",
    "\n",
    "# Todo 1: Create a specified class with methods\n",
    "class Student:\n",
    "    def __init__(self, student_id, name, age, sex, course_name):\n",
    "        self.student_id = student_id\n",
    "        self.name = name\n",
    "        self.age = age\n",
    "        self.sex = sex\n",
    "        self.course_name = course_name\n",
    "        self.courses = []\n",
    "    def add_course(self, course_name, gpa):\n",
    "        self.courses.append({\"course_name\": course_name, \"gpa\": gpa})\n",
    "        return self.courses\n",
    "    def export_info(self):\n",
    "        with open(\"courses.txt\", \"w\") as file:\n",
    "            file.write(f\"Student ID: {self.student_id}\\n\")\n",
    "            file.write(f\"Name: {self.name}\\n\")\n",
    "            file.write(f\"Age: {self.age}\\n\")\n",
    "            file.write(f\"Sex: {self.sex}\\n\")\n",
    "            file.write(f\"Course Name: {self.course_name}\\n\")\n",
    "            file.write(\"Courses and GPAs:\\n\")\n",
    "            for course in self.courses:\n",
    "                file.write(f\"  Course: {course['course_name']}, GPA: {course['gpa']}\\n\")\n",
    "            \n",
    "# Initialize Student object\n",
    "student1 = Student(\"amx333\", \"Alice\", 21, \"Female\", \"Computer Science\")\n",
    "\n",
    "# Add courses and grades\n",
    "student1.add_course(\"Math\", 3.5)\n",
    "student1.add_course(\"Programming\", 4.0)\n",
    "student1.add_course(\"Algorithms\", 3.7)\n",
    "\n",
    "# Export student info to a text file\n",
    "student1.export_info()"
   ]
  },
  {
   "cell_type": "code",
   "execution_count": 38,
   "metadata": {},
   "outputs": [
    {
     "name": "stdout",
     "output_type": "stream",
     "text": [
      "[[1 2 2]\n",
      " [1 0 1]]\n",
      "(2, 3)\n",
      "2\n",
      "[[3 1]\n",
      " [1 1]\n",
      " [1 0]]\n",
      "(3, 2)\n",
      "2\n",
      "[[7 3]\n",
      " [4 1]]\n",
      "[[4 6 7]\n",
      " [2 2 3]\n",
      " [1 2 2]]\n"
     ]
    }
   ],
   "source": [
    "\"\"\"Q7\"\"\"\n",
    "\n",
    "import numpy as np\n",
    "\n",
    "# Todo 1: Create required numpy arrays\n",
    "A = np.array([\n",
    "    [1, 2, 2],\n",
    "    [1, 0, 1]\n",
    "    ])\n",
    "B = np.array([\n",
    "    [3, 1],\n",
    "    [1, 1],\n",
    "    [1, 0]\n",
    "])\n",
    "print(A)\n",
    "print(A.shape)\n",
    "print(np.ndim(A))\n",
    "print(B)\n",
    "print(B.shape)\n",
    "print(np.ndim(B))\n",
    "\n",
    "# Todo 2: Calculated required multiplication\n",
    "print(A @ B) # dot product\n",
    "print(B @ A)"
   ]
  },
  {
   "cell_type": "code",
   "execution_count": 48,
   "metadata": {},
   "outputs": [
    {
     "data": {
      "text/plain": [
       "array([[ 0.        ,  0.        ,  0.        ,  0.        ,  0.        ,\n",
       "         0.        ],\n",
       "       [ 0.        ,  0.        ,  0.        ,  0.        ,  0.        ,\n",
       "         0.        ],\n",
       "       [ 0.        ,  0.        ,  0.13796381, -2.13315754,  0.        ,\n",
       "         0.        ],\n",
       "       [ 0.        ,  0.        , -1.27612863, -2.06150385,  0.        ,\n",
       "         0.        ],\n",
       "       [ 0.        ,  0.        ,  0.        ,  0.        ,  0.        ,\n",
       "         0.        ],\n",
       "       [ 0.        ,  0.        ,  0.        ,  0.        ,  0.        ,\n",
       "         0.        ]])"
      ]
     },
     "execution_count": 48,
     "metadata": {},
     "output_type": "execute_result"
    }
   ],
   "source": [
    "\"\"\"Q8\"\"\"\n",
    "\n",
    "import numpy as np\n",
    "import random\n",
    "\n",
    "# Todo 1: Create required numpy array\n",
    "A = np.random.randn(6, 6)\n",
    "\n",
    "# Todo 2: Manipulate the array into desired format using array slicing\n",
    "A[0:2, :] = 0\n",
    "A[:, 0:2] = 0\n",
    "A[4:6, :] = 0\n",
    "A[:, 4:6] = 0\n",
    "A"
   ]
  },
  {
   "cell_type": "code",
   "execution_count": 67,
   "metadata": {},
   "outputs": [
    {
     "name": "stdout",
     "output_type": "stream",
     "text": [
      "the weighted average using NumPy is: 0.5002639579804737\n",
      "the reuslt of  <function weighted_sum_2 at 0x105972ca0> is 0.2501762748298525\n",
      "Running time: 0.03354 seconds\n",
      "the reuslt of  <function numpy_weighted_sum at 0x105972e80> is 0.5002639579804737\n",
      "Running time: 0.04251 seconds\n"
     ]
    }
   ],
   "source": [
    "import random\n",
    "import time\n",
    "# from q3 import weighted_sum_2 as weighted_sum_list\n",
    "\n",
    "random.seed(123)\n",
    "\n",
    "weights = [random.uniform(0, 1) for i in range(1000000)]\n",
    "values = [random.uniform(0, 1) for i in range(1000000)]\n",
    "\n",
    "# Todo 1: Perform the weighted average using NumPy\n",
    "a = np.average(values, weights = weights)\n",
    "print(\"the weighted average using NumPy is:\", a)\n",
    "\n",
    "# Todo 2: Measure the time taken to perform the weighted average using NumPy vs list comprehension\n",
    "# timer decorator\n",
    "def timer(func):\n",
    "    def inner(*args, **kwargs):\n",
    "        start = time.time()\n",
    "        result = func(*args, **kwargs)\n",
    "        end = time.time()\n",
    "        running_time = end - start\n",
    "        print(\"the reuslt of \", func, \"is\", result)\n",
    "        print(f\"Running time: {running_time:.5f} seconds\") \n",
    "        return result\n",
    "    return inner\n",
    "\n",
    "@timer\n",
    "def weighted_sum_2(weights, values):\n",
    "    \"\"\"Calculate weighted sum using list comprehension\"\"\"\n",
    "    assert len(weights) == len(values), \"the length of weights does not equal to the length of values\"\n",
    "    return sum([weights[i] * values[i] for i in range(len(weights))]) / len(values)\n",
    "\n",
    "@timer\n",
    "def numpy_weighted_sum(weights, values):\n",
    "    assert len(weights) == len(values), \"the length of weights does not equal to the length of values\"\n",
    "    return np.average(values, weights = weights)\n",
    "\n",
    "# print(\"Using list comprehension:\")\n",
    "result_list_comp = weighted_sum_2(weights, values)\n",
    "\n",
    "# print(\"Using NumPy:\")\n",
    "result_numpy = numpy_weighted_sum(weights, values)\n"
   ]
  },
  {
   "attachments": {},
   "cell_type": "markdown",
   "metadata": {},
   "source": [
    "# n is # of control point\n",
    "\n",
    "# find Bezier Curve with (0, 0), (1, 1) and (2, 0) as control points.\n",
    "\n",
    "C(0) = (0, 0) * B0,2(u) + (1, 1) * B1,2(u) + (2, 0) * B2,2(u)\n",
    "\n",
    "B0,2(u) = (1-u)**2\n",
    "B1,2(u) = 2(1-u)u\n",
    "B2,2(u) = u**2\n",
    "\n",
    "c(u) = (0, 0) * (1-u)**2 + (1, 1) * 2(1-u)u + (2, 0) * u**2\n",
    "c(u) = (2u, 2u-2u**2)\n",
    "c(0.5) = (1, 1-2*1/4) = (1, 0.5)\n"
   ]
  },
  {
   "cell_type": "code",
   "execution_count": null,
   "metadata": {},
   "outputs": [],
   "source": []
  },
  {
   "cell_type": "code",
   "execution_count": null,
   "metadata": {},
   "outputs": [],
   "source": []
  },
  {
   "cell_type": "code",
   "execution_count": null,
   "metadata": {},
   "outputs": [],
   "source": []
  },
  {
   "cell_type": "code",
   "execution_count": null,
   "metadata": {},
   "outputs": [],
   "source": []
  },
  {
   "cell_type": "code",
   "execution_count": null,
   "metadata": {},
   "outputs": [],
   "source": []
  },
  {
   "cell_type": "code",
   "execution_count": null,
   "metadata": {},
   "outputs": [],
   "source": []
  }
 ],
 "metadata": {
  "kernelspec": {
   "display_name": "Python 3",
   "language": "python",
   "name": "python3"
  },
  "language_info": {
   "codemirror_mode": {
    "name": "ipython",
    "version": 3
   },
   "file_extension": ".py",
   "mimetype": "text/x-python",
   "name": "python",
   "nbconvert_exporter": "python",
   "pygments_lexer": "ipython3",
   "version": "3.11.3"
  },
  "orig_nbformat": 4
 },
 "nbformat": 4,
 "nbformat_minor": 2
}
