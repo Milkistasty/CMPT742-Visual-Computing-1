{
 "cells": [
  {
   "cell_type": "code",
   "execution_count": 9,
   "metadata": {},
   "outputs": [],
   "source": [
    "from ppgan.apps import DAINPredictor\n",
    "import cv2\n",
    "import numpy as np\n",
    "import paddle"
   ]
  },
  {
   "cell_type": "code",
   "execution_count": 10,
   "metadata": {},
   "outputs": [
    {
     "name": "stdout",
     "output_type": "stream",
     "text": [
      "[11/16 19:33:56] ppgan INFO: Found C:\\Users\\Alienware\\.cache\\ppgan\\DAIN_weight.tar\n",
      "[11/16 19:33:56] ppgan INFO: Decompressing C:\\Users\\Alienware\\.cache\\ppgan\\DAIN_weight.tar...\n",
      "Old fps (frame rate):  1.0\n",
      "New fps (frame rate):  4\n"
     ]
    },
    {
     "name": "stderr",
     "output_type": "stream",
     "text": [
      "  0%|          | 0/9 [00:00<?, ?it/s]\n"
     ]
    },
    {
     "ename": "AttributeError",
     "evalue": "'DAINPredictor' object has no attribute 'model'",
     "output_type": "error",
     "traceback": [
      "\u001b[1;31m---------------------------------------------------------------------------\u001b[0m",
      "\u001b[1;31mAttributeError\u001b[0m                            Traceback (most recent call last)",
      "\u001b[1;32mc:\\Users\\Alienware\\Desktop\\VC CMPT742\\final_project\\dain.ipynb Cell 2\u001b[0m line \u001b[0;36m1\n\u001b[0;32m      <a href='vscode-notebook-cell:/c%3A/Users/Alienware/Desktop/VC%20CMPT742/final_project/dain.ipynb#W4sZmlsZQ%3D%3D?line=4'>5</a>\u001b[0m dain \u001b[39m=\u001b[39m DAINPredictor(output\u001b[39m=\u001b[39m\u001b[39m'\u001b[39m\u001b[39moutput\u001b[39m\u001b[39m'\u001b[39m,\n\u001b[0;32m      <a href='vscode-notebook-cell:/c%3A/Users/Alienware/Desktop/VC%20CMPT742/final_project/dain.ipynb#W4sZmlsZQ%3D%3D?line=5'>6</a>\u001b[0m                  weight_path\u001b[39m=\u001b[39m\u001b[39mNone\u001b[39;00m,\n\u001b[0;32m      <a href='vscode-notebook-cell:/c%3A/Users/Alienware/Desktop/VC%20CMPT742/final_project/dain.ipynb#W4sZmlsZQ%3D%3D?line=6'>7</a>\u001b[0m                  time_step\u001b[39m=\u001b[39mslow_rate,\n\u001b[0;32m      <a href='vscode-notebook-cell:/c%3A/Users/Alienware/Desktop/VC%20CMPT742/final_project/dain.ipynb#W4sZmlsZQ%3D%3D?line=7'>8</a>\u001b[0m                  use_gpu\u001b[39m=\u001b[39m\u001b[39mTrue\u001b[39;00m,\n\u001b[0;32m      <a href='vscode-notebook-cell:/c%3A/Users/Alienware/Desktop/VC%20CMPT742/final_project/dain.ipynb#W4sZmlsZQ%3D%3D?line=8'>9</a>\u001b[0m                  remove_duplicates\u001b[39m=\u001b[39m\u001b[39mFalse\u001b[39;00m)\n\u001b[0;32m     <a href='vscode-notebook-cell:/c%3A/Users/Alienware/Desktop/VC%20CMPT742/final_project/dain.ipynb#W4sZmlsZQ%3D%3D?line=9'>10</a>\u001b[0m \u001b[39m##输出视频在 output/DAIN/videos-output\u001b[39;00m\n\u001b[1;32m---> <a href='vscode-notebook-cell:/c%3A/Users/Alienware/Desktop/VC%20CMPT742/final_project/dain.ipynb#W4sZmlsZQ%3D%3D?line=10'>11</a>\u001b[0m dain\u001b[39m.\u001b[39;49mrun(path)\n",
      "File \u001b[1;32mc:\\Users\\Alienware\\AppData\\Local\\Programs\\Python\\Python39\\lib\\site-packages\\ppgan\\apps\\dain_predictor.py:161\u001b[0m, in \u001b[0;36mDAINPredictor.run\u001b[1;34m(self, video_path)\u001b[0m\n\u001b[0;32m    157\u001b[0m X1 \u001b[39m=\u001b[39m np\u001b[39m.\u001b[39mexpand_dims(X1, axis\u001b[39m=\u001b[39m\u001b[39m0\u001b[39m)\n\u001b[0;32m    159\u001b[0m X \u001b[39m=\u001b[39m np\u001b[39m.\u001b[39mconcatenate((X0, X1), axis\u001b[39m=\u001b[39m\u001b[39m0\u001b[39m)\n\u001b[1;32m--> 161\u001b[0m o \u001b[39m=\u001b[39m \u001b[39mself\u001b[39;49m\u001b[39m.\u001b[39;49mbase_forward(X)\n\u001b[0;32m    163\u001b[0m y_ \u001b[39m=\u001b[39m o[\u001b[39m0\u001b[39m]\n\u001b[0;32m    165\u001b[0m y_ \u001b[39m=\u001b[39m [\n\u001b[0;32m    166\u001b[0m     np\u001b[39m.\u001b[39mtranspose(\n\u001b[0;32m    167\u001b[0m         \u001b[39m255.0\u001b[39m \u001b[39m*\u001b[39m item\u001b[39m.\u001b[39mclip(\n\u001b[1;32m   (...)\u001b[0m\n\u001b[0;32m    170\u001b[0m         (\u001b[39m1\u001b[39m, \u001b[39m2\u001b[39m, \u001b[39m0\u001b[39m)) \u001b[39mfor\u001b[39;00m item \u001b[39min\u001b[39;00m y_\n\u001b[0;32m    171\u001b[0m ]\n",
      "File \u001b[1;32mc:\\Users\\Alienware\\AppData\\Local\\Programs\\Python\\Python39\\lib\\site-packages\\ppgan\\apps\\base_predictor.py:48\u001b[0m, in \u001b[0;36mBasePredictor.base_forward\u001b[1;34m(self, inputs)\u001b[0m\n\u001b[0;32m     46\u001b[0m \u001b[39mdef\u001b[39;00m \u001b[39mbase_forward\u001b[39m(\u001b[39mself\u001b[39m, inputs):\n\u001b[0;32m     47\u001b[0m     \u001b[39mif\u001b[39;00m paddle\u001b[39m.\u001b[39min_dynamic_mode():\n\u001b[1;32m---> 48\u001b[0m         out \u001b[39m=\u001b[39m \u001b[39mself\u001b[39;49m\u001b[39m.\u001b[39;49mmodel(inputs)\n\u001b[0;32m     49\u001b[0m     \u001b[39melse\u001b[39;00m:\n\u001b[0;32m     50\u001b[0m         feed_dict \u001b[39m=\u001b[39m {}\n",
      "\u001b[1;31mAttributeError\u001b[0m: 'DAINPredictor' object has no attribute 'model'"
     ]
    }
   ],
   "source": [
    "# Initialize the DAIN predictor\n",
    "slow_rate = 0.25\n",
    "# 待处理视频路径\n",
    "path = 'output_video.mp4'\n",
    "dain = DAINPredictor(output='output',\n",
    "                 weight_path=None,\n",
    "                 time_step=slow_rate,\n",
    "                 use_gpu=True,\n",
    "                 remove_duplicates=False)\n",
    "##输出视频在 output/DAIN/videos-output\n",
    "dain.run(path)"
   ]
  },
  {
   "cell_type": "code",
   "execution_count": null,
   "metadata": {},
   "outputs": [],
   "source": []
  }
 ],
 "metadata": {
  "kernelspec": {
   "display_name": "Python 3",
   "language": "python",
   "name": "python3"
  },
  "language_info": {
   "codemirror_mode": {
    "name": "ipython",
    "version": 3
   },
   "file_extension": ".py",
   "mimetype": "text/x-python",
   "name": "python",
   "nbconvert_exporter": "python",
   "pygments_lexer": "ipython3",
   "version": "3.9.13"
  }
 },
 "nbformat": 4,
 "nbformat_minor": 2
}
