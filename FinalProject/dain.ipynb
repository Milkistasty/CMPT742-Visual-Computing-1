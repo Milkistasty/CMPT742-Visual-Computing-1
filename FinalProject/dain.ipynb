{
 "cells": [
  {
   "cell_type": "code",
   "execution_count": 9,
   "metadata": {},
   "outputs": [],
   "source": [
    "from ppgan.apps import DAINPredictor\n",
    "import cv2\n",
    "import numpy as np\n",
    "import paddle\n",
    "paddle.enable_static()"
   ]
  },
  {
   "cell_type": "code",
   "execution_count": null,
   "metadata": {},
   "outputs": [],
   "source": [
    "# Initialize the DAIN predictor\n",
    "slow_rate = 0.25\n",
    "path = 'output_video.mp4'\n",
    "\n",
    "dain = DAINPredictor(output='output',\n",
    "                 weight_path=None,\n",
    "                 time_step=slow_rate,\n",
    "                 use_gpu=True,\n",
    "                 remove_duplicates=False)\n",
    "\n",
    "##output video in dir: output/DAIN/videos-output\n",
    "dain.run(path)"
   ]
  },
  {
   "cell_type": "code",
   "execution_count": null,
   "metadata": {},
   "outputs": [],
   "source": []
  }
 ],
 "metadata": {
  "kernelspec": {
   "display_name": "Python 3",
   "language": "python",
   "name": "python3"
  },
  "language_info": {
   "codemirror_mode": {
    "name": "ipython",
    "version": 3
   },
   "file_extension": ".py",
   "mimetype": "text/x-python",
   "name": "python",
   "nbconvert_exporter": "python",
   "pygments_lexer": "ipython3",
   "version": "3.9.13"
  }
 },
 "nbformat": 4,
 "nbformat_minor": 2
}
